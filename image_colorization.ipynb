{
 "cells": [
  {
   "cell_type": "code",
   "execution_count": 2,
   "metadata": {
    "colab": {
     "base_uri": "https://localhost:8080/",
     "height": 121
    },
    "colab_type": "code",
    "executionInfo": {
     "elapsed": 12156,
     "status": "ok",
     "timestamp": 1595524468908,
     "user": {
      "displayName": "Anuradha D",
      "photoUrl": "",
      "userId": "08863303090119644226"
     },
     "user_tz": 420
    },
    "id": "nVkNgLgdqaIf",
    "outputId": "e07c8ac1-d3ba-4ae5-df28-d733f517a6e5"
   },
   "outputs": [
    {
     "name": "stderr",
     "output_type": "stream",
     "text": [
      "Using TensorFlow backend.\n",
      "/usr/local/lib/python3.6/dist-packages/statsmodels/tools/_testing.py:19: FutureWarning: pandas.util.testing is deprecated. Use the functions in the public API at pandas.testing instead.\n",
      "  import pandas.util.testing as tm\n"
     ]
    },
    {
     "name": "stdout",
     "output_type": "stream",
     "text": [
      "Downloading data from https://www.cs.toronto.edu/~kriz/cifar-10-python.tar.gz\n",
      "170500096/170498071 [==============================] - 6s 0us/step\n"
     ]
    }
   ],
   "source": [
    "import os\n",
    "import random\n",
    "import sys\n",
    "\n",
    "import cv2\n",
    "import keras\n",
    "import matplotlib.pyplot as plt\n",
    "import numpy as np\n",
    "import pandas as pd\n",
    "import scipy as sp\n",
    "import seaborn as sns\n",
    "import tensorflow as tf\n",
    "import tqdm\n",
    "from keras import regularizers\n",
    "from keras.callbacks import ModelCheckpoint\n",
    "from keras.datasets import cifar10\n",
    "from keras.layers import (\n",
    "    Activation,\n",
    "    Conv2D,\n",
    "    Dense,\n",
    "    Dropout,\n",
    "    Flatten,\n",
    "    MaxPooling2D,\n",
    "    Reshape,\n",
    "    Softmax,\n",
    ")\n",
    "from keras.models import Sequential\n",
    "from keras.preprocessing.image import ImageDataGenerator\n",
    "from keras.utils import np_utils\n",
    "from scipy.spatial.distance import euclidean\n",
    "from sklearn.cluster import KMeans\n",
    "from sklearn.metrics import accuracy_score\n",
    "from sklearn.metrics.pairwise import euclidean_distances\n",
    "from sklearn.model_selection import train_test_split\n",
    "from sklearn.neighbors import DistanceMetric\n",
    "from sklearn.preprocessing import LabelEncoder, OneHotEncoder\n",
    "from tensorflow.python.client import device_lib\n",
    "\n",
    "\n",
    "\n",
    "(train_image,train_label),(test_image,test_lable)=tf.keras.datasets.cifar10.load_data()"
   ]
  },
  {
   "cell_type": "markdown",
   "metadata": {},
   "source": [
    "2 (a) and (b).  Use CIFAR-10 dataset. From the train and test dataset, extract the class birds. We will focus on this class, which has 6000 members."
   ]
  },
  {
   "cell_type": "code",
   "execution_count": 3,
   "metadata": {
    "colab": {
     "base_uri": "https://localhost:8080/",
     "height": 34
    },
    "colab_type": "code",
    "executionInfo": {
     "elapsed": 491,
     "status": "ok",
     "timestamp": 1595524485716,
     "user": {
      "displayName": "Anuradha D",
      "photoUrl": "",
      "userId": "08863303090119644226"
     },
     "user_tz": 420
    },
    "id": "KRMzWY9uqkRU",
    "outputId": "2318574e-c147-43b6-8175-bba408731866"
   },
   "outputs": [
    {
     "name": "stdout",
     "output_type": "stream",
     "text": [
      "(5000, 32, 32, 3)\n"
     ]
    }
   ],
   "source": [
    "bird_class=train_image[(train_label==2).reshape(train_image.shape[0])]\n",
    "print(bird_class.shape)"
   ]
  },
  {
   "cell_type": "code",
   "execution_count": 4,
   "metadata": {
    "colab": {
     "base_uri": "https://localhost:8080/",
     "height": 34
    },
    "colab_type": "code",
    "executionInfo": {
     "elapsed": 803,
     "status": "ok",
     "timestamp": 1595524504925,
     "user": {
      "displayName": "Anuradha D",
      "photoUrl": "",
      "userId": "08863303090119644226"
     },
     "user_tz": 420
    },
    "id": "30j4RaMnq5s7",
    "outputId": "78898704-73d3-4a9f-f2a6-df7c19e82cd7"
   },
   "outputs": [
    {
     "name": "stdout",
     "output_type": "stream",
     "text": [
      "(5000,)\n"
     ]
    }
   ],
   "source": [
    "bird_class_label=train_label[train_label==2]\n",
    "print(bird_class_label.shape)"
   ]
  },
  {
   "cell_type": "code",
   "execution_count": 5,
   "metadata": {
    "colab": {
     "base_uri": "https://localhost:8080/",
     "height": 34
    },
    "colab_type": "code",
    "executionInfo": {
     "elapsed": 781,
     "status": "ok",
     "timestamp": 1595524518539,
     "user": {
      "displayName": "Anuradha D",
      "photoUrl": "",
      "userId": "08863303090119644226"
     },
     "user_tz": 420
    },
    "id": "AIygF-Lwq98U",
    "outputId": "dff4640d-fc74-48aa-f4cb-6790dd98638f"
   },
   "outputs": [
    {
     "name": "stdout",
     "output_type": "stream",
     "text": [
      "(1000, 32, 32, 3)\n"
     ]
    }
   ],
   "source": [
    "bird_class_test=test_image[(test_lable==2).reshape(test_image.shape[0])]\n",
    "print(bird_class_test.shape)"
   ]
  },
  {
   "cell_type": "code",
   "execution_count": 6,
   "metadata": {
    "colab": {
     "base_uri": "https://localhost:8080/",
     "height": 34
    },
    "colab_type": "code",
    "executionInfo": {
     "elapsed": 752,
     "status": "ok",
     "timestamp": 1595524533823,
     "user": {
      "displayName": "Anuradha D",
      "photoUrl": "",
      "userId": "08863303090119644226"
     },
     "user_tz": 420
    },
    "id": "uxQXe-qYrBP_",
    "outputId": "02194c5b-1bb1-468f-83a8-c9d00c647b74"
   },
   "outputs": [
    {
     "name": "stdout",
     "output_type": "stream",
     "text": [
      "(1000,)\n"
     ]
    }
   ],
   "source": [
    "bird_class_label_test=test_lable[test_lable==2]\n",
    "print(bird_class_label_test.shape)"
   ]
  },
  {
   "cell_type": "markdown",
   "metadata": {},
   "source": [
    "(c). Those 6000 images have 6000,32,32 pixels. Choose at least 10% of the pixels randomly. It is strongly recommended that you choose a large number or all of the pixels. You will have between P = 614400 and P = 6144000 pixels. Each pixel is an RGB vector with three elements."
   ]
  },
  {
   "cell_type": "code",
   "execution_count": 7,
   "metadata": {
    "colab": {
     "base_uri": "https://localhost:8080/",
     "height": 50
    },
    "colab_type": "code",
    "executionInfo": {
     "elapsed": 815,
     "status": "ok",
     "timestamp": 1595524551026,
     "user": {
      "displayName": "Anuradha D",
      "photoUrl": "",
      "userId": "08863303090119644226"
     },
     "user_tz": 420
    },
    "id": "Ut1yza7xrFID",
    "outputId": "bee6f384-ff15-460b-d414-8ece0e7ea90d"
   },
   "outputs": [
    {
     "name": "stdout",
     "output_type": "stream",
     "text": [
      "(6000, 32, 32, 3)\n",
      "(6000,)\n"
     ]
    }
   ],
   "source": [
    "whole_bird_imageset=np.concatenate((bird_class,bird_class_test))\n",
    "print(whole_bird_imageset.shape)\n",
    "whole_bird_labelset=np.concatenate((bird_class_label,bird_class_label_test))\n",
    "print(whole_bird_labelset.shape)"
   ]
  },
  {
   "cell_type": "markdown",
   "metadata": {},
   "source": [
    "d). Run k-means clustering on the P vectors using k = 4. The centers of the clusters will be your main colors. Convert the colored images to k-color images by converting each pixel's value to the closest main color in terms of Euclidean distance.These are the outputs of your network, whose each pixel falls in one of those k classes"
   ]
  },
  {
   "cell_type": "code",
   "execution_count": 8,
   "metadata": {
    "colab": {},
    "colab_type": "code",
    "executionInfo": {
     "elapsed": 80131,
     "status": "ok",
     "timestamp": 1595524652778,
     "user": {
      "displayName": "Anuradha D",
      "photoUrl": "",
      "userId": "08863303090119644226"
     },
     "user_tz": 420
    },
    "id": "xEuyUrFGrJHg"
   },
   "outputs": [],
   "source": [
    "from sklearn.cluster import KMeans\n",
    "#get the input data and input it to the kmeans cluster\n",
    "#We need to flatten the height and width into a single vector of pixels, hence we reshape it\n",
    "#So it is a 2 dimensional array with 3 channels (which is RGB)\n",
    "\n",
    "kmeans=KMeans(n_clusters=4,random_state=99).fit(whole_bird_imageset.reshape(-1,3))\n",
    "centers=kmeans.cluster_centers_\n",
    "prediction=kmeans.labels_"
   ]
  },
  {
   "cell_type": "code",
   "execution_count": 11,
   "metadata": {
    "colab": {
     "base_uri": "https://localhost:8080/",
     "height": 84
    },
    "colab_type": "code",
    "executionInfo": {
     "elapsed": 791,
     "status": "ok",
     "timestamp": 1595525259470,
     "user": {
      "displayName": "Anuradha D",
      "photoUrl": "",
      "userId": "08863303090119644226"
     },
     "user_tz": 420
    },
    "id": "WIZU0nZ7t0-O",
    "outputId": "6bd443c4-94a2-4ab0-eadf-fdd0f5bebccd"
   },
   "outputs": [
    {
     "data": {
      "text/plain": [
       "array([[157.39425818, 156.9295898 , 137.74989508],\n",
       "       [ 49.82425629,  50.80100531,  39.15472962],\n",
       "       [207.85737352, 213.08052223, 212.77882868],\n",
       "       [110.40524438, 109.95685812,  83.78964519]])"
      ]
     },
     "execution_count": 11,
     "metadata": {
      "tags": []
     },
     "output_type": "execute_result"
    }
   ],
   "source": [
    "centers"
   ]
  },
  {
   "cell_type": "code",
   "execution_count": 19,
   "metadata": {
    "colab": {},
    "colab_type": "code",
    "executionInfo": {
     "elapsed": 798,
     "status": "ok",
     "timestamp": 1595526150340,
     "user": {
      "displayName": "Anuradha D",
      "photoUrl": "",
      "userId": "08863303090119644226"
     },
     "user_tz": 420
    },
    "id": "zi8jnIS2t7kA"
   },
   "outputs": [],
   "source": [
    "dictionary={'0':[157.39425818, 156.9295898 , 137.74989508],'1':[49.82425629,  50.80100531,  39.15472962],'2':[207.85737352, 213.08052223, 212.77882868],'3':[110.40524438, 109.95685812,  83.78964519]}"
   ]
  },
  {
   "cell_type": "code",
   "execution_count": 15,
   "metadata": {
    "colab": {
     "base_uri": "https://localhost:8080/",
     "height": 402
    },
    "colab_type": "code",
    "executionInfo": {
     "elapsed": 765,
     "status": "ok",
     "timestamp": 1595525954176,
     "user": {
      "displayName": "Anuradha D",
      "photoUrl": "",
      "userId": "08863303090119644226"
     },
     "user_tz": 420
    },
    "id": "AptyA8YvrO-2",
    "outputId": "313d8efc-b9aa-40e4-e723-dae8ed8fa37a"
   },
   "outputs": [
    {
     "data": {
      "text/html": [
       "<div>\n",
       "<style scoped>\n",
       "    .dataframe tbody tr th:only-of-type {\n",
       "        vertical-align: middle;\n",
       "    }\n",
       "\n",
       "    .dataframe tbody tr th {\n",
       "        vertical-align: top;\n",
       "    }\n",
       "\n",
       "    .dataframe thead th {\n",
       "        text-align: right;\n",
       "    }\n",
       "</style>\n",
       "<table border=\"1\" class=\"dataframe\">\n",
       "  <thead>\n",
       "    <tr style=\"text-align: right;\">\n",
       "      <th></th>\n",
       "      <th>cluster_class</th>\n",
       "    </tr>\n",
       "  </thead>\n",
       "  <tbody>\n",
       "    <tr>\n",
       "      <th>0</th>\n",
       "      <td>0</td>\n",
       "    </tr>\n",
       "    <tr>\n",
       "      <th>1</th>\n",
       "      <td>3</td>\n",
       "    </tr>\n",
       "    <tr>\n",
       "      <th>2</th>\n",
       "      <td>3</td>\n",
       "    </tr>\n",
       "    <tr>\n",
       "      <th>3</th>\n",
       "      <td>0</td>\n",
       "    </tr>\n",
       "    <tr>\n",
       "      <th>4</th>\n",
       "      <td>0</td>\n",
       "    </tr>\n",
       "    <tr>\n",
       "      <th>...</th>\n",
       "      <td>...</td>\n",
       "    </tr>\n",
       "    <tr>\n",
       "      <th>6143995</th>\n",
       "      <td>0</td>\n",
       "    </tr>\n",
       "    <tr>\n",
       "      <th>6143996</th>\n",
       "      <td>0</td>\n",
       "    </tr>\n",
       "    <tr>\n",
       "      <th>6143997</th>\n",
       "      <td>0</td>\n",
       "    </tr>\n",
       "    <tr>\n",
       "      <th>6143998</th>\n",
       "      <td>0</td>\n",
       "    </tr>\n",
       "    <tr>\n",
       "      <th>6143999</th>\n",
       "      <td>0</td>\n",
       "    </tr>\n",
       "  </tbody>\n",
       "</table>\n",
       "<p>6144000 rows × 1 columns</p>\n",
       "</div>"
      ],
      "text/plain": [
       "         cluster_class\n",
       "0                    0\n",
       "1                    3\n",
       "2                    3\n",
       "3                    0\n",
       "4                    0\n",
       "...                ...\n",
       "6143995              0\n",
       "6143996              0\n",
       "6143997              0\n",
       "6143998              0\n",
       "6143999              0\n",
       "\n",
       "[6144000 rows x 1 columns]"
      ]
     },
     "execution_count": 15,
     "metadata": {
      "tags": []
     },
     "output_type": "execute_result"
    }
   ],
   "source": [
    "prediction_df=pd.DataFrame(prediction)\n",
    "prediction_df.columns=['cluster_class']\n",
    "prediction_df"
   ]
  },
  {
   "cell_type": "markdown",
   "metadata": {},
   "source": [
    "One hot encode the labels for fitting into model"
   ]
  },
  {
   "cell_type": "code",
   "execution_count": 61,
   "metadata": {
    "colab": {},
    "colab_type": "code",
    "executionInfo": {
     "elapsed": 996926,
     "status": "ok",
     "timestamp": 1595533328567,
     "user": {
      "displayName": "Anuradha D",
      "photoUrl": "",
      "userId": "08863303090119644226"
     },
     "user_tz": 420
    },
    "id": "yd7HCffHHA7h"
   },
   "outputs": [],
   "source": [
    "onehotencoded_y=[]\n",
    "for ind,r in prediction_df.iterrows():\n",
    "    if r['cluster_class'] == 0:\n",
    "        val=[1,0,0,0]\n",
    "        onehotencoded_y.append(val)\n",
    "    elif r['cluster_class'] == 1:\n",
    "        val=[0,1,0,0]\n",
    "        onehotencoded_y.append(val)\n",
    "    elif r['cluster_class'] == 2:\n",
    "        val=[0,0,1,0]\n",
    "        onehotencoded_y.append(val)\n",
    "    elif r['cluster_class'] == 3:\n",
    "        val=[0,0,0,1]\n",
    "        onehotencoded_y.append(val)\n",
    "    "
   ]
  },
  {
   "cell_type": "code",
   "execution_count": 66,
   "metadata": {
    "colab": {
     "base_uri": "https://localhost:8080/",
     "height": 1000
    },
    "colab_type": "code",
    "executionInfo": {
     "elapsed": 4116,
     "status": "ok",
     "timestamp": 1595536575187,
     "user": {
      "displayName": "Anuradha D",
      "photoUrl": "",
      "userId": "08863303090119644226"
     },
     "user_tz": 420
    },
    "id": "gg2BqJ17YjW2",
    "outputId": "b81a1873-e90c-45f2-9e7b-b120b9856b4a"
   },
   "outputs": [
    {
     "data": {
      "text/plain": [
       "array([[[[1, 0, 0, 0],\n",
       "         [0, 0, 0, 1],\n",
       "         [0, 0, 0, 1],\n",
       "         ...,\n",
       "         [0, 0, 0, 1],\n",
       "         [0, 0, 0, 1],\n",
       "         [0, 0, 0, 1]],\n",
       "\n",
       "        [[1, 0, 0, 0],\n",
       "         [0, 0, 0, 1],\n",
       "         [0, 0, 0, 1],\n",
       "         ...,\n",
       "         [0, 0, 0, 1],\n",
       "         [0, 0, 0, 1],\n",
       "         [0, 0, 0, 1]],\n",
       "\n",
       "        [[1, 0, 0, 0],\n",
       "         [1, 0, 0, 0],\n",
       "         [0, 0, 0, 1],\n",
       "         ...,\n",
       "         [0, 0, 0, 1],\n",
       "         [0, 0, 0, 1],\n",
       "         [0, 0, 0, 1]],\n",
       "\n",
       "        ...,\n",
       "\n",
       "        [[0, 0, 0, 1],\n",
       "         [0, 0, 0, 1],\n",
       "         [0, 0, 0, 1],\n",
       "         ...,\n",
       "         [0, 0, 0, 1],\n",
       "         [0, 0, 0, 1],\n",
       "         [0, 0, 0, 1]],\n",
       "\n",
       "        [[1, 0, 0, 0],\n",
       "         [1, 0, 0, 0],\n",
       "         [1, 0, 0, 0],\n",
       "         ...,\n",
       "         [0, 0, 0, 1],\n",
       "         [0, 0, 0, 1],\n",
       "         [0, 0, 0, 1]],\n",
       "\n",
       "        [[1, 0, 0, 0],\n",
       "         [1, 0, 0, 0],\n",
       "         [1, 0, 0, 0],\n",
       "         ...,\n",
       "         [0, 0, 0, 1],\n",
       "         [0, 0, 0, 1],\n",
       "         [0, 0, 0, 1]]],\n",
       "\n",
       "\n",
       "       [[[0, 1, 0, 0],\n",
       "         [0, 1, 0, 0],\n",
       "         [0, 1, 0, 0],\n",
       "         ...,\n",
       "         [0, 1, 0, 0],\n",
       "         [0, 1, 0, 0],\n",
       "         [0, 1, 0, 0]],\n",
       "\n",
       "        [[0, 1, 0, 0],\n",
       "         [0, 1, 0, 0],\n",
       "         [0, 1, 0, 0],\n",
       "         ...,\n",
       "         [0, 1, 0, 0],\n",
       "         [0, 1, 0, 0],\n",
       "         [0, 1, 0, 0]],\n",
       "\n",
       "        [[0, 1, 0, 0],\n",
       "         [0, 1, 0, 0],\n",
       "         [0, 1, 0, 0],\n",
       "         ...,\n",
       "         [0, 1, 0, 0],\n",
       "         [0, 1, 0, 0],\n",
       "         [0, 1, 0, 0]],\n",
       "\n",
       "        ...,\n",
       "\n",
       "        [[0, 0, 1, 0],\n",
       "         [0, 0, 1, 0],\n",
       "         [0, 0, 1, 0],\n",
       "         ...,\n",
       "         [0, 1, 0, 0],\n",
       "         [0, 1, 0, 0],\n",
       "         [0, 1, 0, 0]],\n",
       "\n",
       "        [[0, 0, 1, 0],\n",
       "         [0, 0, 1, 0],\n",
       "         [0, 0, 1, 0],\n",
       "         ...,\n",
       "         [0, 1, 0, 0],\n",
       "         [0, 1, 0, 0],\n",
       "         [0, 1, 0, 0]],\n",
       "\n",
       "        [[0, 0, 1, 0],\n",
       "         [0, 0, 1, 0],\n",
       "         [0, 0, 1, 0],\n",
       "         ...,\n",
       "         [0, 1, 0, 0],\n",
       "         [0, 1, 0, 0],\n",
       "         [0, 1, 0, 0]]],\n",
       "\n",
       "\n",
       "       [[[0, 0, 1, 0],\n",
       "         [0, 0, 1, 0],\n",
       "         [0, 0, 1, 0],\n",
       "         ...,\n",
       "         [0, 0, 1, 0],\n",
       "         [0, 0, 1, 0],\n",
       "         [0, 0, 1, 0]],\n",
       "\n",
       "        [[0, 0, 1, 0],\n",
       "         [0, 0, 1, 0],\n",
       "         [0, 0, 1, 0],\n",
       "         ...,\n",
       "         [0, 0, 1, 0],\n",
       "         [0, 0, 1, 0],\n",
       "         [0, 0, 1, 0]],\n",
       "\n",
       "        [[0, 0, 1, 0],\n",
       "         [0, 0, 1, 0],\n",
       "         [0, 0, 1, 0],\n",
       "         ...,\n",
       "         [0, 0, 1, 0],\n",
       "         [0, 0, 1, 0],\n",
       "         [0, 0, 1, 0]],\n",
       "\n",
       "        ...,\n",
       "\n",
       "        [[1, 0, 0, 0],\n",
       "         [1, 0, 0, 0],\n",
       "         [1, 0, 0, 0],\n",
       "         ...,\n",
       "         [0, 0, 0, 1],\n",
       "         [0, 0, 0, 1],\n",
       "         [0, 0, 0, 1]],\n",
       "\n",
       "        [[1, 0, 0, 0],\n",
       "         [1, 0, 0, 0],\n",
       "         [1, 0, 0, 0],\n",
       "         ...,\n",
       "         [0, 0, 0, 1],\n",
       "         [0, 0, 0, 1],\n",
       "         [0, 0, 0, 1]],\n",
       "\n",
       "        [[1, 0, 0, 0],\n",
       "         [1, 0, 0, 0],\n",
       "         [1, 0, 0, 0],\n",
       "         ...,\n",
       "         [0, 0, 0, 1],\n",
       "         [0, 0, 0, 1],\n",
       "         [0, 1, 0, 0]]],\n",
       "\n",
       "\n",
       "       ...,\n",
       "\n",
       "\n",
       "       [[[0, 0, 0, 1],\n",
       "         [0, 0, 0, 1],\n",
       "         [0, 0, 0, 1],\n",
       "         ...,\n",
       "         [0, 0, 0, 1],\n",
       "         [0, 0, 0, 1],\n",
       "         [0, 0, 0, 1]],\n",
       "\n",
       "        [[0, 0, 0, 1],\n",
       "         [0, 0, 0, 1],\n",
       "         [0, 0, 0, 1],\n",
       "         ...,\n",
       "         [0, 0, 0, 1],\n",
       "         [0, 0, 0, 1],\n",
       "         [0, 0, 0, 1]],\n",
       "\n",
       "        [[0, 0, 0, 1],\n",
       "         [0, 0, 0, 1],\n",
       "         [0, 0, 0, 1],\n",
       "         ...,\n",
       "         [0, 0, 0, 1],\n",
       "         [0, 0, 0, 1],\n",
       "         [0, 0, 0, 1]],\n",
       "\n",
       "        ...,\n",
       "\n",
       "        [[1, 0, 0, 0],\n",
       "         [1, 0, 0, 0],\n",
       "         [1, 0, 0, 0],\n",
       "         ...,\n",
       "         [0, 0, 1, 0],\n",
       "         [0, 0, 1, 0],\n",
       "         [0, 0, 1, 0]],\n",
       "\n",
       "        [[1, 0, 0, 0],\n",
       "         [1, 0, 0, 0],\n",
       "         [1, 0, 0, 0],\n",
       "         ...,\n",
       "         [0, 0, 1, 0],\n",
       "         [0, 0, 1, 0],\n",
       "         [0, 0, 1, 0]],\n",
       "\n",
       "        [[1, 0, 0, 0],\n",
       "         [1, 0, 0, 0],\n",
       "         [1, 0, 0, 0],\n",
       "         ...,\n",
       "         [1, 0, 0, 0],\n",
       "         [0, 0, 1, 0],\n",
       "         [0, 0, 1, 0]]],\n",
       "\n",
       "\n",
       "       [[[0, 1, 0, 0],\n",
       "         [0, 1, 0, 0],\n",
       "         [0, 1, 0, 0],\n",
       "         ...,\n",
       "         [0, 1, 0, 0],\n",
       "         [0, 1, 0, 0],\n",
       "         [0, 1, 0, 0]],\n",
       "\n",
       "        [[0, 1, 0, 0],\n",
       "         [0, 1, 0, 0],\n",
       "         [0, 1, 0, 0],\n",
       "         ...,\n",
       "         [0, 1, 0, 0],\n",
       "         [0, 1, 0, 0],\n",
       "         [0, 1, 0, 0]],\n",
       "\n",
       "        [[0, 1, 0, 0],\n",
       "         [0, 1, 0, 0],\n",
       "         [0, 1, 0, 0],\n",
       "         ...,\n",
       "         [0, 1, 0, 0],\n",
       "         [0, 1, 0, 0],\n",
       "         [0, 1, 0, 0]],\n",
       "\n",
       "        ...,\n",
       "\n",
       "        [[0, 0, 1, 0],\n",
       "         [0, 0, 1, 0],\n",
       "         [1, 0, 0, 0],\n",
       "         ...,\n",
       "         [0, 0, 0, 1],\n",
       "         [0, 0, 0, 1],\n",
       "         [0, 0, 0, 1]],\n",
       "\n",
       "        [[0, 0, 1, 0],\n",
       "         [1, 0, 0, 0],\n",
       "         [0, 0, 1, 0],\n",
       "         ...,\n",
       "         [0, 0, 0, 1],\n",
       "         [0, 0, 0, 1],\n",
       "         [0, 0, 0, 1]],\n",
       "\n",
       "        [[1, 0, 0, 0],\n",
       "         [1, 0, 0, 0],\n",
       "         [1, 0, 0, 0],\n",
       "         ...,\n",
       "         [0, 0, 0, 1],\n",
       "         [0, 0, 0, 1],\n",
       "         [0, 0, 0, 1]]],\n",
       "\n",
       "\n",
       "       [[[0, 0, 0, 1],\n",
       "         [1, 0, 0, 0],\n",
       "         [0, 0, 0, 1],\n",
       "         ...,\n",
       "         [0, 1, 0, 0],\n",
       "         [0, 1, 0, 0],\n",
       "         [0, 1, 0, 0]],\n",
       "\n",
       "        [[1, 0, 0, 0],\n",
       "         [1, 0, 0, 0],\n",
       "         [0, 0, 0, 1],\n",
       "         ...,\n",
       "         [0, 1, 0, 0],\n",
       "         [0, 1, 0, 0],\n",
       "         [0, 1, 0, 0]],\n",
       "\n",
       "        [[1, 0, 0, 0],\n",
       "         [1, 0, 0, 0],\n",
       "         [1, 0, 0, 0],\n",
       "         ...,\n",
       "         [0, 1, 0, 0],\n",
       "         [0, 1, 0, 0],\n",
       "         [0, 1, 0, 0]],\n",
       "\n",
       "        ...,\n",
       "\n",
       "        [[1, 0, 0, 0],\n",
       "         [1, 0, 0, 0],\n",
       "         [1, 0, 0, 0],\n",
       "         ...,\n",
       "         [1, 0, 0, 0],\n",
       "         [1, 0, 0, 0],\n",
       "         [1, 0, 0, 0]],\n",
       "\n",
       "        [[1, 0, 0, 0],\n",
       "         [1, 0, 0, 0],\n",
       "         [1, 0, 0, 0],\n",
       "         ...,\n",
       "         [1, 0, 0, 0],\n",
       "         [1, 0, 0, 0],\n",
       "         [1, 0, 0, 0]],\n",
       "\n",
       "        [[0, 0, 1, 0],\n",
       "         [1, 0, 0, 0],\n",
       "         [1, 0, 0, 0],\n",
       "         ...,\n",
       "         [1, 0, 0, 0],\n",
       "         [1, 0, 0, 0],\n",
       "         [1, 0, 0, 0]]]])"
      ]
     },
     "execution_count": 66,
     "metadata": {
      "tags": []
     },
     "output_type": "execute_result"
    }
   ],
   "source": [
    "arr=np.array(onehotencoded_y)\n",
    "arr=arr.reshape(-1,32,32,4)\n",
    "arr"
   ]
  },
  {
   "cell_type": "markdown",
   "metadata": {},
   "source": [
    "The 'new_list' contains pixels belonging to each of the 4 clusters"
   ]
  },
  {
   "cell_type": "code",
   "execution_count": 55,
   "metadata": {
    "colab": {},
    "colab_type": "code",
    "executionInfo": {
     "elapsed": 994155,
     "status": "ok",
     "timestamp": 1595531757155,
     "user": {
      "displayName": "Anuradha D",
      "photoUrl": "",
      "userId": "08863303090119644226"
     },
     "user_tz": 420
    },
    "id": "-FXlFMd6wglr"
   },
   "outputs": [],
   "source": [
    "new_list=[]\n",
    "for index,row in prediction_df.iterrows():\n",
    "    if (row['cluster_class'] == 0):\n",
    "        val=dictionary['0']\n",
    "        new_list.append(val)\n",
    "    elif (row['cluster_class'] == 1):\n",
    "        val=dictionary['1']\n",
    "        new_list.append(val)\n",
    "    elif (row['cluster_class'] == 2):\n",
    "        val=dictionary['2']\n",
    "        new_list.append(val)\n",
    "    elif (row['cluster_class'] == 3):\n",
    "        val=dictionary['3']\n",
    "        new_list.append(val)"
   ]
  },
  {
   "cell_type": "code",
   "execution_count": 56,
   "metadata": {
    "colab": {
     "base_uri": "https://localhost:8080/",
     "height": 34
    },
    "colab_type": "code",
    "executionInfo": {
     "elapsed": 890,
     "status": "ok",
     "timestamp": 1595531770921,
     "user": {
      "displayName": "Anuradha D",
      "photoUrl": "",
      "userId": "08863303090119644226"
     },
     "user_tz": 420
    },
    "id": "6EVWMV-nGpfV",
    "outputId": "4af1face-92ff-4a22-c244-67ff3fd66dff"
   },
   "outputs": [
    {
     "data": {
      "text/plain": [
       "6144000"
      ]
     },
     "execution_count": 56,
     "metadata": {
      "tags": []
     },
     "output_type": "execute_result"
    }
   ],
   "source": [
    "#This list contains only four cluster colours\n",
    "len(new_list)"
   ]
  },
  {
   "cell_type": "markdown",
   "metadata": {},
   "source": [
    " e). Use any tool (e.g., openCV or scikit-learn) to obtain grayscale 32,32,1 images from the original 32,32,3 images. The grayscale images are inputs of your network."
   ]
  },
  {
   "cell_type": "code",
   "execution_count": 67,
   "metadata": {
    "colab": {},
    "colab_type": "code",
    "executionInfo": {
     "elapsed": 1019,
     "status": "ok",
     "timestamp": 1595536608262,
     "user": {
      "displayName": "Anuradha D",
      "photoUrl": "",
      "userId": "08863303090119644226"
     },
     "user_tz": 420
    },
    "id": "IoA49vzN0xM3"
   },
   "outputs": [],
   "source": [
    "\n",
    "import cv2\n",
    "l=[]\n",
    "for i in whole_bird_imageset:\n",
    "    img_gray = cv2.cvtColor(i, cv2.COLOR_BGR2GRAY)\n",
    "    l.append(img_gray)\n",
    "\n",
    "l_array=np.array(l)\n",
    "axismoved = np.moveaxis( l_array,0, 2)\n",
    "array_4d = np.expand_dims(axismoved,0)\n",
    "b = np.transpose(array_4d, (3, 1, 2, 0))\n",
    "\n",
    "X_train, X_test, y_train, y_test = train_test_split(\n",
    "    b, arr, test_size=0.2, random_state=666)"
   ]
  },
  {
   "cell_type": "code",
   "execution_count": 68,
   "metadata": {
    "colab": {
     "base_uri": "https://localhost:8080/",
     "height": 34
    },
    "colab_type": "code",
    "executionInfo": {
     "elapsed": 507,
     "status": "ok",
     "timestamp": 1595536611445,
     "user": {
      "displayName": "Anuradha D",
      "photoUrl": "",
      "userId": "08863303090119644226"
     },
     "user_tz": 420
    },
    "id": "Kg9oQbSf6T2j",
    "outputId": "35d6f895-8aef-4585-f543-b2bbbc9c4b1d"
   },
   "outputs": [
    {
     "data": {
      "text/plain": [
       "(4800, 32, 32, 1)"
      ]
     },
     "execution_count": 68,
     "metadata": {
      "tags": []
     },
     "output_type": "execute_result"
    }
   ],
   "source": [
    "X_train.shape"
   ]
  },
  {
   "cell_type": "code",
   "execution_count": 69,
   "metadata": {
    "colab": {
     "base_uri": "https://localhost:8080/",
     "height": 34
    },
    "colab_type": "code",
    "executionInfo": {
     "elapsed": 780,
     "status": "ok",
     "timestamp": 1595536614058,
     "user": {
      "displayName": "Anuradha D",
      "photoUrl": "",
      "userId": "08863303090119644226"
     },
     "user_tz": 420
    },
    "id": "KAFsZ_Yd6Xo8",
    "outputId": "6284c091-82a8-4127-f276-3d77dbbc7b61"
   },
   "outputs": [
    {
     "data": {
      "text/plain": [
       "(4800, 32, 32, 4)"
      ]
     },
     "execution_count": 69,
     "metadata": {
      "tags": []
     },
     "output_type": "execute_result"
    }
   ],
   "source": [
    "y_train.shape"
   ]
  },
  {
   "cell_type": "markdown",
   "metadata": {},
   "source": [
    "f). Set up a deep convolutional neural network with two convolution layers (or more) and two (or more) MLP layers. Use 5,5 filters and a softmax output layer."
   ]
  },
  {
   "cell_type": "code",
   "execution_count": 70,
   "metadata": {
    "colab": {
     "base_uri": "https://localhost:8080/",
     "height": 420
    },
    "colab_type": "code",
    "executionInfo": {
     "elapsed": 919,
     "status": "ok",
     "timestamp": 1595536618911,
     "user": {
      "displayName": "Anuradha D",
      "photoUrl": "",
      "userId": "08863303090119644226"
     },
     "user_tz": 420
    },
    "id": "og_DMxq66jBr",
    "outputId": "40270bac-0fcf-41de-e6f7-b40cbef23e22"
   },
   "outputs": [
    {
     "name": "stdout",
     "output_type": "stream",
     "text": [
      "Model: \"sequential_2\"\n",
      "_________________________________________________________________\n",
      "Layer (type)                 Output Shape              Param #   \n",
      "=================================================================\n",
      "conv2d_3 (Conv2D)            (None, 32, 32, 64)        1664      \n",
      "_________________________________________________________________\n",
      "max_pooling2d_3 (MaxPooling2 (None, 32, 32, 64)        0         \n",
      "_________________________________________________________________\n",
      "conv2d_4 (Conv2D)            (None, 32, 32, 64)        102464    \n",
      "_________________________________________________________________\n",
      "max_pooling2d_4 (MaxPooling2 (None, 32, 32, 64)        0         \n",
      "_________________________________________________________________\n",
      "dense_3 (Dense)              (None, 32, 32, 32)        2080      \n",
      "_________________________________________________________________\n",
      "activation_3 (Activation)    (None, 32, 32, 32)        0         \n",
      "_________________________________________________________________\n",
      "dense_4 (Dense)              (None, 32, 32, 4)         132       \n",
      "_________________________________________________________________\n",
      "activation_4 (Activation)    (None, 32, 32, 4)         0         \n",
      "=================================================================\n",
      "Total params: 106,340\n",
      "Trainable params: 106,340\n",
      "Non-trainable params: 0\n",
      "_________________________________________________________________\n"
     ]
    }
   ],
   "source": [
    "model=Sequential()\n",
    "model.add(Conv2D(filters=64,kernel_size=(5,5),strides=(1,1),padding='same',input_shape=(32,32,1)))\n",
    "model.add(MaxPooling2D(pool_size=(2,2),strides=(1,1),padding='same'))\n",
    "\n",
    "model.add(Conv2D(filters=64,kernel_size=(5,5),strides=(1,1),padding='same',activation='relu'))\n",
    "model.add(MaxPooling2D(pool_size=(2,2),strides=(1,1),padding='same'))\n",
    "\n",
    "model.add(Dense(32))\n",
    "model.add(Activation(\"softmax\"))\n",
    "\n",
    "#Output consists of 4 classes\n",
    "#Adding softmax activation function too\n",
    "model.add(Dense(4))\n",
    "model.add(Activation(\"softmax\"))\n",
    "model.summary()"
   ]
  },
  {
   "cell_type": "code",
   "execution_count": 71,
   "metadata": {
    "colab": {},
    "colab_type": "code",
    "executionInfo": {
     "elapsed": 804,
     "status": "ok",
     "timestamp": 1595536622830,
     "user": {
      "displayName": "Anuradha D",
      "photoUrl": "",
      "userId": "08863303090119644226"
     },
     "user_tz": 420
    },
    "id": "RXO0QM-e7AGE"
   },
   "outputs": [],
   "source": [
    "from keras.optimizers import Adam\n",
    "learning_rate=0.0001\n",
    "opt=Adam(lr=learning_rate)\n",
    "model.compile(loss=\"categorical_crossentropy\",optimizer=opt,metrics=[\"accuracy\"])"
   ]
  },
  {
   "cell_type": "code",
   "execution_count": 72,
   "metadata": {
    "colab": {
     "base_uri": "https://localhost:8080/",
     "height": 1000
    },
    "colab_type": "code",
    "executionInfo": {
     "elapsed": 68415,
     "status": "ok",
     "timestamp": 1595536693806,
     "user": {
      "displayName": "Anuradha D",
      "photoUrl": "",
      "userId": "08863303090119644226"
     },
     "user_tz": 420
    },
    "id": "BGM546ZZ7OxN",
    "outputId": "a6d595ac-5ebd-49ed-e93d-2061e2045d60"
   },
   "outputs": [
    {
     "name": "stdout",
     "output_type": "stream",
     "text": [
      "Train on 4800 samples, validate on 1200 samples\n",
      "Epoch 1/30\n",
      "4800/4800 [==============================] - 3s 526us/step - loss: 1.3472 - accuracy: 0.2937 - val_loss: 1.3443 - val_accuracy: 0.2977\n",
      "Epoch 2/30\n",
      "4800/4800 [==============================] - 2s 463us/step - loss: 1.3223 - accuracy: 0.3456 - val_loss: 1.3037 - val_accuracy: 0.3936\n",
      "Epoch 3/30\n",
      "4800/4800 [==============================] - 2s 464us/step - loss: 1.2961 - accuracy: 0.4031 - val_loss: 1.2914 - val_accuracy: 0.4218\n",
      "Epoch 4/30\n",
      "4800/4800 [==============================] - 2s 462us/step - loss: 1.2872 - accuracy: 0.4186 - val_loss: 1.2875 - val_accuracy: 0.4242\n",
      "Epoch 5/30\n",
      "4800/4800 [==============================] - 2s 463us/step - loss: 1.2838 - accuracy: 0.4270 - val_loss: 1.2840 - val_accuracy: 0.4270\n",
      "Epoch 6/30\n",
      "4800/4800 [==============================] - 2s 462us/step - loss: 1.2814 - accuracy: 0.4334 - val_loss: 1.2820 - val_accuracy: 0.4342\n",
      "Epoch 7/30\n",
      "4800/4800 [==============================] - 2s 462us/step - loss: 1.2795 - accuracy: 0.4385 - val_loss: 1.2802 - val_accuracy: 0.4384\n",
      "Epoch 8/30\n",
      "4800/4800 [==============================] - 2s 460us/step - loss: 1.2776 - accuracy: 0.4407 - val_loss: 1.2782 - val_accuracy: 0.4388\n",
      "Epoch 9/30\n",
      "4800/4800 [==============================] - 2s 460us/step - loss: 1.2759 - accuracy: 0.4415 - val_loss: 1.2783 - val_accuracy: 0.4415\n",
      "Epoch 10/30\n",
      "4800/4800 [==============================] - 2s 461us/step - loss: 1.2755 - accuracy: 0.4412 - val_loss: 1.2753 - val_accuracy: 0.4408\n",
      "Epoch 11/30\n",
      "4800/4800 [==============================] - 2s 460us/step - loss: 1.2740 - accuracy: 0.4419 - val_loss: 1.2741 - val_accuracy: 0.4406\n",
      "Epoch 12/30\n",
      "4800/4800 [==============================] - 2s 460us/step - loss: 1.2718 - accuracy: 0.4437 - val_loss: 1.2728 - val_accuracy: 0.4419\n",
      "Epoch 13/30\n",
      "4800/4800 [==============================] - 2s 463us/step - loss: 1.2713 - accuracy: 0.4435 - val_loss: 1.2736 - val_accuracy: 0.4338\n",
      "Epoch 14/30\n",
      "4800/4800 [==============================] - 2s 463us/step - loss: 1.2705 - accuracy: 0.4433 - val_loss: 1.2722 - val_accuracy: 0.4351\n",
      "Epoch 15/30\n",
      "4800/4800 [==============================] - 2s 460us/step - loss: 1.2699 - accuracy: 0.4428 - val_loss: 1.2713 - val_accuracy: 0.4453\n",
      "Epoch 16/30\n",
      "4800/4800 [==============================] - 2s 463us/step - loss: 1.2683 - accuracy: 0.4443 - val_loss: 1.2692 - val_accuracy: 0.4386\n",
      "Epoch 17/30\n",
      "4800/4800 [==============================] - 2s 461us/step - loss: 1.2667 - accuracy: 0.4448 - val_loss: 1.2691 - val_accuracy: 0.4463\n",
      "Epoch 18/30\n",
      "4800/4800 [==============================] - 2s 463us/step - loss: 1.2660 - accuracy: 0.4448 - val_loss: 1.2669 - val_accuracy: 0.4467\n",
      "Epoch 19/30\n",
      "4800/4800 [==============================] - 2s 460us/step - loss: 1.2645 - accuracy: 0.4459 - val_loss: 1.2650 - val_accuracy: 0.4443\n",
      "Epoch 20/30\n",
      "4800/4800 [==============================] - 2s 461us/step - loss: 1.2634 - accuracy: 0.4466 - val_loss: 1.2642 - val_accuracy: 0.4425\n",
      "Epoch 21/30\n",
      "4800/4800 [==============================] - 2s 460us/step - loss: 1.2648 - accuracy: 0.4424 - val_loss: 1.2659 - val_accuracy: 0.4477\n",
      "Epoch 22/30\n",
      "4800/4800 [==============================] - 2s 460us/step - loss: 1.2623 - accuracy: 0.4457 - val_loss: 1.2638 - val_accuracy: 0.4484\n",
      "Epoch 23/30\n",
      "4800/4800 [==============================] - 2s 461us/step - loss: 1.2596 - accuracy: 0.4483 - val_loss: 1.2610 - val_accuracy: 0.4442\n",
      "Epoch 24/30\n",
      "4800/4800 [==============================] - 2s 461us/step - loss: 1.2589 - accuracy: 0.4480 - val_loss: 1.2661 - val_accuracy: 0.4255\n",
      "Epoch 25/30\n",
      "4800/4800 [==============================] - 2s 461us/step - loss: 1.2591 - accuracy: 0.4463 - val_loss: 1.2588 - val_accuracy: 0.4489\n",
      "Epoch 26/30\n",
      "4800/4800 [==============================] - 2s 461us/step - loss: 1.2565 - accuracy: 0.4484 - val_loss: 1.2596 - val_accuracy: 0.4507\n",
      "Epoch 27/30\n",
      "4800/4800 [==============================] - 2s 461us/step - loss: 1.2551 - accuracy: 0.4499 - val_loss: 1.2564 - val_accuracy: 0.4510\n",
      "Epoch 28/30\n",
      "4800/4800 [==============================] - 2s 461us/step - loss: 1.2535 - accuracy: 0.4507 - val_loss: 1.2540 - val_accuracy: 0.4511\n",
      "Epoch 29/30\n",
      "4800/4800 [==============================] - 2s 459us/step - loss: 1.2522 - accuracy: 0.4513 - val_loss: 1.2542 - val_accuracy: 0.4510\n",
      "Epoch 30/30\n",
      "4800/4800 [==============================] - 2s 460us/step - loss: 1.2520 - accuracy: 0.4511 - val_loss: 1.2531 - val_accuracy: 0.4455\n"
     ]
    }
   ],
   "source": [
    "filepath_checkpoint='../Data/cnn_model.hdf5'\n",
    "checkpoint_callback=ModelCheckpoint(filepath=filepath_checkpoint,save_weights_only=True,monitor='loss',mode='min')\n",
    "model_loss=model.fit(X_train,y_train,epochs=30,validation_data=(X_test,y_test),batch_size=256,callbacks=[checkpoint_callback])"
   ]
  },
  {
   "cell_type": "code",
   "execution_count": 73,
   "metadata": {
    "colab": {
     "base_uri": "https://localhost:8080/",
     "height": 295
    },
    "colab_type": "code",
    "executionInfo": {
     "elapsed": 833,
     "status": "ok",
     "timestamp": 1595536696908,
     "user": {
      "displayName": "Anuradha D",
      "photoUrl": "",
      "userId": "08863303090119644226"
     },
     "user_tz": 420
    },
    "id": "uKlbHuK--EDu",
    "outputId": "d2fb7e0d-1234-49d0-e9f8-161c9038c5a5"
   },
   "outputs": [
    {
     "data": {
      "image/png": "[encoded data removed]",
      "text/plain": [
       "<Figure size 432x288 with 1 Axes>"
      ]
     },
     "metadata": {
      "needs_background": "light",
      "tags": []
     },
     "output_type": "display_data"
    }
   ],
   "source": [
    "plt.plot(model_loss.history['loss'],label='train')\n",
    "plt.plot(model_loss.history['val_loss'],label='test')\n",
    "plt.title('model loss')\n",
    "plt.ylabel('Train and Test loss')\n",
    "plt.xlabel('Epoch')\n",
    "plt.legend()\n",
    "plt.show()\n"
   ]
  }
 ],
 "metadata": {
  "accelerator": "GPU",
  "colab": {
   "authorship_tag": "ABX9TyP3MMfujoKQjIFMnnnDdnrq",
   "mount_file_id": "1SOOFXrzRSNP7to3FqumLh1gUUgnwq9Yw",
   "name": "HW7_Aditi_Deepak.ipynb",
   "provenance": []
  },
  "kernelspec": {
   "display_name": "Python 3",
   "language": "python",
   "name": "python3"
  },
  "language_info": {
   "codemirror_mode": {
    "name": "ipython",
    "version": 3
   },
   "file_extension": ".py",
   "mimetype": "text/x-python",
   "name": "python",
   "nbconvert_exporter": "python",
   "pygments_lexer": "ipython3",
   "version": "3.7.6"
  }
 },
 "nbformat": 4,
 "nbformat_minor": 1
}
